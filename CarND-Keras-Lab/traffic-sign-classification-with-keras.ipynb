{
 "cells": [
  {
   "cell_type": "markdown",
   "metadata": {},
   "source": [
    "# Traffic Sign Classification with Keras\n",
    "\n",
    "Keras exists to make coding deep neural networks simpler. To demonstrate just how easy it is, you’re going to use Keras to build a convolutional neural network in a few dozen lines of code.\n",
    "\n",
    "You’ll be connecting the concepts from the previous lessons to the methods that Keras provides."
   ]
  },
  {
   "cell_type": "markdown",
   "metadata": {},
   "source": [
    "## Dataset\n",
    "\n",
    "The network you'll build with Keras is similar to the example in Keras’s GitHub repository that builds out a [convolutional neural network for MNIST](https://github.com/fchollet/keras/blob/master/examples/mnist_cnn.py). \n",
    "\n",
    "However, instead of using the [MNIST](http://yann.lecun.com/exdb/mnist/) dataset, you're going to use the [German Traffic Sign Recognition Benchmark](http://benchmark.ini.rub.de/?section=gtsrb&subsection=news) dataset that you've used previously.\n",
    "\n",
    "You can download pickle files with sanitized traffic sign data here:"
   ]
  },
  {
   "cell_type": "code",
   "execution_count": 1,
   "metadata": {},
   "outputs": [
    {
     "name": "stderr",
     "output_type": "stream",
     "text": [
      "Train Dataset: 120MB [00:15, 7.55MB/s]                              \n",
      "Test Dataset: 38.8MB [00:07, 5.47MB/s]                              "
     ]
    },
    {
     "name": "stdout",
     "output_type": "stream",
     "text": [
      "Training and Test data downloaded.\n"
     ]
    },
    {
     "name": "stderr",
     "output_type": "stream",
     "text": [
      "\n"
     ]
    }
   ],
   "source": [
    "from urllib.request import urlretrieve\n",
    "from os.path import isfile\n",
    "from tqdm import tqdm\n",
    "\n",
    "class DLProgress(tqdm):\n",
    "    last_block = 0\n",
    "\n",
    "    def hook(self, block_num=1, block_size=1, total_size=None):\n",
    "        self.total = total_size\n",
    "        self.update((block_num - self.last_block) * block_size)\n",
    "        self.last_block = block_num\n",
    "\n",
    "if not isfile('train.p'):\n",
    "    with DLProgress(unit='B', unit_scale=True, miniters=1, desc='Train Dataset') as pbar:\n",
    "        urlretrieve(\n",
    "            'https://s3.amazonaws.com/udacity-sdc/datasets/german_traffic_sign_benchmark/train.p',\n",
    "            'train.p',\n",
    "            pbar.hook)\n",
    "\n",
    "if not isfile('test.p'):\n",
    "    with DLProgress(unit='B', unit_scale=True, miniters=1, desc='Test Dataset') as pbar:\n",
    "        urlretrieve(\n",
    "            'https://s3.amazonaws.com/udacity-sdc/datasets/german_traffic_sign_benchmark/test.p',\n",
    "            'test.p',\n",
    "            pbar.hook)\n",
    "\n",
    "print('Training and Test data downloaded.')"
   ]
  },
  {
   "cell_type": "markdown",
   "metadata": {},
   "source": [
    "## Overview\n",
    "\n",
    "Here are the steps you'll take to build the network:\n",
    "\n",
    "1. Load the training data.\n",
    "2. Preprocess the data.\n",
    "3. Build a feedforward neural network to classify traffic signs.\n",
    "4. Build a convolutional neural network to classify traffic signs.\n",
    "5. Evaluate the final neural network on testing data.\n",
    "\n",
    "Keep an eye on the network’s accuracy over time. Once the accuracy reaches the 98% range, you can be confident that you’ve built and trained an effective model."
   ]
  },
  {
   "cell_type": "code",
   "execution_count": 2,
   "metadata": {},
   "outputs": [
    {
     "name": "stdout",
     "output_type": "stream",
     "text": [
      "Modules loaded.\n"
     ]
    }
   ],
   "source": [
    "import pickle\n",
    "import numpy as np\n",
    "import math\n",
    "\n",
    "# Fix error with TF and Keras\n",
    "import tensorflow as tf\n",
    "tf.python.control_flow_ops = tf\n",
    "\n",
    "print('Modules loaded.')"
   ]
  },
  {
   "cell_type": "markdown",
   "metadata": {},
   "source": [
    "## Load the Data\n",
    "\n",
    "Start by importing the data from the pickle file."
   ]
  },
  {
   "cell_type": "code",
   "execution_count": 4,
   "metadata": {
    "collapsed": true
   },
   "outputs": [],
   "source": [
    "with open('train.p', 'rb') as f:\n",
    "    data = pickle.load(f)\n",
    "\n",
    "# TODO: Load the feature data to the variable X_train\n",
    "X_train = data['features']\n",
    "# TODO: Load the label data to the variable y_train\n",
    "y_train = data['labels']"
   ]
  },
  {
   "cell_type": "code",
   "execution_count": 5,
   "metadata": {},
   "outputs": [
    {
     "name": "stdout",
     "output_type": "stream",
     "text": [
      "Tests passed.\n"
     ]
    }
   ],
   "source": [
    "# STOP: Do not change the tests below. Your implementation should pass these tests. \n",
    "assert np.array_equal(X_train, data['features']), 'X_train not set to data[\\'features\\'].'\n",
    "assert np.array_equal(y_train, data['labels']), 'y_train not set to data[\\'labels\\'].'\n",
    "print('Tests passed.')"
   ]
  },
  {
   "cell_type": "markdown",
   "metadata": {},
   "source": [
    "## Preprocess the Data\n",
    "\n",
    "1. Shuffle the data\n",
    "2. Normalize the features using Min-Max scaling between -0.5 and 0.5\n",
    "3. One-Hot Encode the labels\n",
    "\n",
    "### Shuffle the data\n",
    "Hint: You can use the [scikit-learn shuffle](http://scikit-learn.org/stable/modules/generated/sklearn.utils.shuffle.html) function to shuffle the data."
   ]
  },
  {
   "cell_type": "code",
   "execution_count": 8,
   "metadata": {
    "collapsed": true
   },
   "outputs": [],
   "source": [
    "# TODO: Shuffle the data\n",
    "from sklearn.utils import shuffle\n",
    "X_train, y_train = shuffle(X_train, y_train)"
   ]
  },
  {
   "cell_type": "code",
   "execution_count": 9,
   "metadata": {},
   "outputs": [
    {
     "name": "stdout",
     "output_type": "stream",
     "text": [
      "Tests passed.\n"
     ]
    }
   ],
   "source": [
    "# STOP: Do not change the tests below. Your implementation should pass these tests. \n",
    "assert X_train.shape == data['features'].shape, 'X_train has changed shape. The shape shouldn\\'t change when shuffling.'\n",
    "assert y_train.shape == data['labels'].shape, 'y_train has changed shape. The shape shouldn\\'t change when shuffling.'\n",
    "assert not np.array_equal(X_train, data['features']), 'X_train not shuffled.'\n",
    "assert not np.array_equal(y_train, data['labels']), 'y_train not shuffled.'\n",
    "print('Tests passed.')"
   ]
  },
  {
   "cell_type": "markdown",
   "metadata": {},
   "source": [
    "### Normalize the features\n",
    "Hint: You solved this in [TensorFlow lab](https://github.com/udacity/CarND-TensorFlow-Lab/blob/master/lab.ipynb) Problem 1."
   ]
  },
  {
   "cell_type": "code",
   "execution_count": 13,
   "metadata": {
    "collapsed": true
   },
   "outputs": [],
   "source": [
    "# TODO: Normalize the data features to the variable X_normalized\n",
    "def normalize(X, a=0, b=1):\n",
    "    \"\"\"\n",
    "    Normalize the image data with Min-Max scaling to a range of [0.1, 0.9]\n",
    "    :param image_data: The image data to be normalized\n",
    "    :return: Normalized image data\n",
    "    \"\"\"\n",
    "    # TODO: Implement Min-Max scaling for grayscale image data\n",
    "    # feature range [a, b]\n",
    "    X_std = (X - X.min(axis=0)) / (X.max(axis=0) - X.min(axis=0))\n",
    "    X_scaled = X_std * (b - a) + a\n",
    "    return X_scaled\n",
    "\n",
    "X_normalized = normalize(X_train, a=-0.5, b=0.5)"
   ]
  },
  {
   "cell_type": "code",
   "execution_count": 14,
   "metadata": {},
   "outputs": [
    {
     "name": "stdout",
     "output_type": "stream",
     "text": [
      "Tests passed.\n"
     ]
    }
   ],
   "source": [
    "# STOP: Do not change the tests below. Your implementation should pass these tests. \n",
    "assert math.isclose(np.min(X_normalized), -0.5, abs_tol=1e-5) and math.isclose(np.max(X_normalized), 0.5, abs_tol=1e-5), 'The range of the training data is: {} to {}.  It must be -0.5 to 0.5'.format(np.min(X_normalized), np.max(X_normalized))\n",
    "print('Tests passed.')"
   ]
  },
  {
   "cell_type": "markdown",
   "metadata": {},
   "source": [
    "### One-Hot Encode the labels\n",
    "Hint: You can use the [scikit-learn LabelBinarizer](http://scikit-learn.org/stable/modules/generated/sklearn.preprocessing.LabelBinarizer.html) function to one-hot encode the labels."
   ]
  },
  {
   "cell_type": "code",
   "execution_count": 21,
   "metadata": {
    "collapsed": true
   },
   "outputs": [],
   "source": [
    "# TODO: One Hot encode the labels to the variable y_one_hot\n",
    "from sklearn.preprocessing import LabelBinarizer\n",
    "lb = LabelBinarizer()\n",
    "y_one_hot = lb.fit_transform(y_train)"
   ]
  },
  {
   "cell_type": "code",
   "execution_count": 22,
   "metadata": {},
   "outputs": [
    {
     "name": "stdout",
     "output_type": "stream",
     "text": [
      "Tests passed.\n"
     ]
    }
   ],
   "source": [
    "# STOP: Do not change the tests below. Your implementation should pass these tests. \n",
    "import collections\n",
    "\n",
    "assert y_one_hot.shape == (39209, 43), 'y_one_hot is not the correct shape.  It\\'s {}, it should be (39209, 43)'.format(y_one_hot.shape)\n",
    "assert next((False for y in y_one_hot if collections.Counter(y) != {0: 42, 1: 1}), True), 'y_one_hot not one-hot encoded.'\n",
    "print('Tests passed.')"
   ]
  },
  {
   "cell_type": "markdown",
   "metadata": {},
   "source": [
    "## Keras Sequential Model\n",
    "```python\n",
    "from keras.models import Sequential\n",
    "\n",
    "# Create the Sequential model\n",
    "model = Sequential()\n",
    "```\n",
    "The `keras.models.Sequential` class is a wrapper for the neural network model. Just like many of the class models in scikit-learn, it provides common functions like `fit()`, `evaluate()`, and `compile()`.  We'll cover these functions as we get to them.  Let's start looking at the layers of the model.\n",
    "\n",
    "## Keras Layer\n",
    "A Keras layer is just like a neural network layer.  It can be fully connected, max pool, activation, etc.  You can add a layer to the model using the model's `add()` function.  For example, a simple model would look like this:\n",
    "```python\n",
    "from keras.models import Sequential\n",
    "from keras.layers.core import Dense, Activation, Flatten\n",
    "\n",
    "# Create the Sequential model\n",
    "model = Sequential()\n",
    "\n",
    "# 1st Layer - Add a flatten layer\n",
    "model.add(Flatten(input_shape=(32, 32, 3)))\n",
    "\n",
    "# 2nd Layer - Add a fully connected layer\n",
    "model.add(Dense(100))\n",
    "\n",
    "# 3rd Layer - Add a ReLU activation layer\n",
    "model.add(Activation('relu'))\n",
    "\n",
    "# 4th Layer - Add a fully connected layer\n",
    "model.add(Dense(60))\n",
    "\n",
    "# 5th Layer - Add a ReLU activation layer\n",
    "model.add(Activation('relu'))\n",
    "```\n",
    "Keras will automatically infer the shape of all layers after the first layer.  This means you only have to set the input dimensions for the first layer.\n",
    "\n",
    "The first layer from above, `model.add(Flatten(input_shape=(32, 32, 3)))`, sets the input dimension to (32, 32, 3) and output dimension to (3072=32\\*32\\*3).  The second layer takes in the output of the first layer and sets the output dimenions to (100).  This chain of passing output to the next layer continues until the last layer, which is the output of the model."
   ]
  },
  {
   "cell_type": "markdown",
   "metadata": {},
   "source": [
    "## Build a Multi-Layer Feedforward Network\n",
    "\n",
    "Build a multi-layer feedforward neural network to classify the traffic sign images.\n",
    "\n",
    "1. Set the first layer to a `Flatten` layer with the `input_shape` set to (32, 32, 3)\n",
    "2. Set the second layer to `Dense` layer width to 128 output. \n",
    "3. Use a ReLU activation function after the second layer.\n",
    "4. Set the output layer width to 43, since there are 43 classes in the dataset.\n",
    "5. Use a softmax activation function after the output layer.\n",
    "\n",
    "To get started, review the Keras documentation about [models](https://keras.io/models/sequential/) and [layers](https://keras.io/layers/core/).\n",
    "\n",
    "The Keras example of a [Multi-Layer Perceptron](https://github.com/fchollet/keras/blob/master/examples/mnist_mlp.py) network is similar to what you need to do here. Use that as a guide, but keep in mind that there are a number of differences."
   ]
  },
  {
   "cell_type": "code",
   "execution_count": 23,
   "metadata": {},
   "outputs": [
    {
     "name": "stderr",
     "output_type": "stream",
     "text": [
      "Using TensorFlow backend.\n"
     ]
    }
   ],
   "source": [
    "from keras.models import Sequential\n",
    "from keras.layers.core import Dense, Activation, Flatten\n",
    "model = Sequential()\n",
    "# TODO: Build a Multi-layer feedforward neural network with Keras here.\n",
    "\n",
    "# 1st Layer - Add a flatten layer\n",
    "model.add(Flatten(input_shape=(32, 32, 3)))\n",
    "\n",
    "# 2nd Layer - Add a fully connected layer\n",
    "model.add(Dense(128))\n",
    "\n",
    "# 3rd Layer - Add a ReLU activation layer\n",
    "model.add(Activation('relu'))\n",
    "\n",
    "# 4th Layer - Add a fully connected layer\n",
    "model.add(Dense(43))\n",
    "\n",
    "# 5th Layer - Add a softmax activation layer\n",
    "model.add(Activation('softmax'))"
   ]
  },
  {
   "cell_type": "code",
   "execution_count": 24,
   "metadata": {},
   "outputs": [
    {
     "name": "stdout",
     "output_type": "stream",
     "text": [
      "Tests passed.\n"
     ]
    }
   ],
   "source": [
    "# STOP: Do not change the tests below. Your implementation should pass these tests.\n",
    "from keras.layers.core import Dense, Activation, Flatten\n",
    "from keras.activations import relu, softmax\n",
    "\n",
    "def check_layers(layers, true_layers):\n",
    "    assert len(true_layers) != 0, 'No layers found'\n",
    "    for layer_i in range(len(layers)):\n",
    "        assert isinstance(true_layers[layer_i], layers[layer_i]), 'Layer {} is not a {} layer'.format(layer_i+1, layers[layer_i].__name__)\n",
    "    assert len(true_layers) == len(layers), '{} layers found, should be {} layers'.format(len(true_layers), len(layers))\n",
    "\n",
    "check_layers([Flatten, Dense, Activation, Dense, Activation], model.layers)\n",
    "\n",
    "assert model.layers[0].input_shape == (None, 32, 32, 3), 'First layer input shape is wrong, it should be (32, 32, 3)'\n",
    "assert model.layers[1].output_shape == (None, 128), 'Second layer output is wrong, it should be (128)'\n",
    "assert model.layers[2].activation == relu, 'Third layer not a relu activation layer'\n",
    "assert model.layers[3].output_shape == (None, 43), 'Fourth layer output is wrong, it should be (43)'\n",
    "assert model.layers[4].activation == softmax, 'Fifth layer not a softmax activation layer'\n",
    "print('Tests passed.')"
   ]
  },
  {
   "cell_type": "markdown",
   "metadata": {},
   "source": [
    "## Training a Sequential Model\n",
    "You built a multi-layer neural network in Keras, now let's look at training a neural network.\n",
    "```python\n",
    "from keras.models import Sequential\n",
    "from keras.layers.core import Dense, Activation\n",
    "\n",
    "model = Sequential()\n",
    "...\n",
    "\n",
    "# Configures the learning process and metrics\n",
    "model.compile('sgd', 'mean_squared_error', ['accuracy'])\n",
    "\n",
    "# Train the model\n",
    "# History is a record of training loss and metrics\n",
    "history = model.fit(X_train_data, Y_train_data, batch_size=128, nb_epoch=2, validation_split=0.2, verbose=2)\n",
    "\n",
    "# Calculate test score\n",
    "test_score = model.evaluate(X_test_data, Y_test_data)\n",
    "```\n",
    "The code above configures, trains, and tests the model.  The line `model.compile('sgd', 'mean_squared_error', ['accuracy'])` configures the model's optimizer to `'sgd'`(stochastic gradient descent), the loss to `'mean_squared_error'`, and the metric to `'accuracy'`.  \n",
    "\n",
    "You can find more optimizers [here](https://keras.io/optimizers/), loss functions [here](https://keras.io/objectives/#available-objectives), and more metrics [here](https://keras.io/metrics/#available-metrics).\n",
    "\n",
    "To train the model, use the `fit()` function as shown in `model.fit(X_train_data, Y_train_data, batch_size=128, nb_epoch=2, validation_split=0.2, verbose=2)`.  The `validation_split` parameter will split a percentage of the training dataset to be used to validate the model.  Typically you won't have to change the `verbose` parameter but in Jupyter notebooks the update animation can crash the notebook so we set `verbose=2`, this limits the animation to only update after an epoch is complete. The model can be further tested with the test dataset using the `evaluation()` function as shown in the last line."
   ]
  },
  {
   "cell_type": "markdown",
   "metadata": {},
   "source": [
    "## Train the Network\n",
    "\n",
    "1. Compile the network using adam optimizer and categorical_crossentropy loss function.\n",
    "2. Train the network for ten epochs and validate with 20% of the training data."
   ]
  },
  {
   "cell_type": "code",
   "execution_count": 27,
   "metadata": {},
   "outputs": [
    {
     "name": "stdout",
     "output_type": "stream",
     "text": [
      "Train on 31367 samples, validate on 7842 samples\n",
      "Epoch 1/10\n",
      "4s - loss: 1.7946 - acc: 0.5316 - val_loss: 1.1761 - val_acc: 0.6622\n",
      "Epoch 2/10\n",
      "3s - loss: 0.8562 - acc: 0.7753 - val_loss: 0.9944 - val_acc: 0.7357\n",
      "Epoch 3/10\n",
      "3s - loss: 0.6300 - acc: 0.8385 - val_loss: 0.6998 - val_acc: 0.7914\n",
      "Epoch 4/10\n",
      "3s - loss: 0.5102 - acc: 0.8684 - val_loss: 0.5251 - val_acc: 0.8439\n",
      "Epoch 5/10\n",
      "3s - loss: 0.4250 - acc: 0.8876 - val_loss: 0.5072 - val_acc: 0.8454\n",
      "Epoch 6/10\n",
      "3s - loss: 0.3693 - acc: 0.9033 - val_loss: 0.3894 - val_acc: 0.8967\n",
      "Epoch 7/10\n",
      "3s - loss: 0.3322 - acc: 0.9134 - val_loss: 0.3404 - val_acc: 0.9149\n",
      "Epoch 8/10\n",
      "3s - loss: 0.3014 - acc: 0.9218 - val_loss: 0.5518 - val_acc: 0.8332\n",
      "Epoch 9/10\n",
      "3s - loss: 0.2767 - acc: 0.9289 - val_loss: 0.3618 - val_acc: 0.9123\n",
      "Epoch 10/10\n",
      "3s - loss: 0.2528 - acc: 0.9347 - val_loss: 0.2913 - val_acc: 0.9229\n"
     ]
    }
   ],
   "source": [
    "# TODO: Compile and train the model here.\n",
    "# Configures the learning process and metrics\n",
    "# Compile the network using adam optimizer and categorical_crossentropy loss function.\n",
    "\n",
    "model.compile('adam', 'categorical_crossentropy', ['accuracy'])\n",
    "\n",
    "# Train the model\n",
    "# History is a record of training loss and metrics\n",
    "# Train the network for ten epochs and validate with 20% of the training data.\n",
    "history = model.fit(X_normalized, y_one_hot, batch_size=128, nb_epoch=10, validation_split=0.2, verbose=2)"
   ]
  },
  {
   "cell_type": "code",
   "execution_count": 28,
   "metadata": {},
   "outputs": [
    {
     "name": "stdout",
     "output_type": "stream",
     "text": [
      "Tests passed.\n"
     ]
    }
   ],
   "source": [
    "# STOP: Do not change the tests below. Your implementation should pass these tests.\n",
    "from keras.optimizers import Adam\n",
    "\n",
    "assert model.loss == 'categorical_crossentropy', 'Not using categorical_crossentropy loss function'\n",
    "assert isinstance(model.optimizer, Adam), 'Not using adam optimizer'\n",
    "assert len(history.history['acc']) == 10, 'You\\'re using {} epochs when you need to use 10 epochs.'.format(len(history.history['acc']))\n",
    "\n",
    "assert history.history['acc'][-1] > 0.92, 'The training accuracy was: %.3f. It shoud be greater than 0.92' % history.history['acc'][-1]\n",
    "assert history.history['val_acc'][-1] > 0.85, 'The validation accuracy is: %.3f. It shoud be greater than 0.85' % history.history['val_acc'][-1]\n",
    "print('Tests passed.')"
   ]
  },
  {
   "cell_type": "markdown",
   "metadata": {},
   "source": [
    "## Convolutions\n",
    "1. Re-construct the previous network\n",
    "2. Add a [convolutional layer](https://keras.io/layers/convolutional/#convolution2d) with 32 filters, a 3x3 kernel, and valid padding before the flatten layer.\n",
    "3. Add a ReLU activation after the convolutional layer.\n",
    "\n",
    "Hint 1: The Keras example of a [convolutional neural network](https://github.com/fchollet/keras/blob/master/examples/mnist_cnn.py) for MNIST would be a good example to review."
   ]
  },
  {
   "cell_type": "code",
   "execution_count": 36,
   "metadata": {
    "collapsed": true
   },
   "outputs": [],
   "source": [
    "from keras.models import Sequential\n",
    "from keras.layers.core import Dense, Activation, Flatten\n",
    "from keras.layers.convolutional import Convolution2D, Conv2D\n",
    "\n",
    "# TODO: Re-construct the network and add a convolutional layer before the flatten layer.\n",
    "model = Sequential()\n",
    "# TODO: Build a Multi-layer feedforward neural network with Keras here.\n",
    "\n",
    "# 1st Layer - Add a convolution layer\n",
    "model.add(Convolution2D(32, 3, 3, border_mode='valid',input_shape=(32, 32, 3)))\n",
    "#model.add(Conv2D(32, 3, 3, border_mode='valid',input_shape=(32, 32, 3)))\n",
    "\n",
    "# 2nd Layer - Add a ReLU activation layer\n",
    "model.add(Activation('relu'))\n",
    "\n",
    "# 3rd Layer - Add a flatten layer\n",
    "model.add(Flatten())\n",
    "\n",
    "# 4th Layer - Add a fully connected layer\n",
    "model.add(Dense(128))\n",
    "\n",
    "# 5th Layer - Add a ReLU activation layer\n",
    "model.add(Activation('relu'))\n",
    "\n",
    "# 6th Layer - Add a fully connected layer\n",
    "model.add(Dense(43))\n",
    "\n",
    "# 7th Layer - Add a softmax activation layer\n",
    "model.add(Activation('softmax'))"
   ]
  },
  {
   "cell_type": "code",
   "execution_count": 37,
   "metadata": {},
   "outputs": [
    {
     "name": "stdout",
     "output_type": "stream",
     "text": [
      "Train on 31367 samples, validate on 7842 samples\n",
      "Epoch 1/2\n",
      "36s - loss: 1.1583 - acc: 0.7028 - val_loss: 0.4355 - val_acc: 0.8834\n",
      "Epoch 2/2\n",
      "36s - loss: 0.2961 - acc: 0.9265 - val_loss: 0.2279 - val_acc: 0.9496\n",
      "Tests passed.\n"
     ]
    }
   ],
   "source": [
    "# STOP: Do not change the tests below. Your implementation should pass these tests.\n",
    "from keras.layers.core import Dense, Activation, Flatten\n",
    "from keras.layers.convolutional import Convolution2D\n",
    "\n",
    "check_layers([Convolution2D, Activation, Flatten, Dense, Activation, Dense, Activation], model.layers)\n",
    "\n",
    "assert model.layers[0].input_shape == (None, 32, 32, 3), 'First layer input shape is wrong, it should be (32, 32, 3)'\n",
    "assert model.layers[0].nb_filter == 32, 'Wrong number of filters, it should be 32'\n",
    "assert model.layers[0].nb_col == model.layers[0].nb_row == 3, 'Kernel size is wrong, it should be a 3x3'\n",
    "assert model.layers[0].border_mode == 'valid', 'Wrong padding, it should be valid'\n",
    "\n",
    "model.compile('adam', 'categorical_crossentropy', ['accuracy'])\n",
    "history = model.fit(X_normalized, y_one_hot, batch_size=128, nb_epoch=2, validation_split=0.2, verbose=2)\n",
    "assert(history.history['val_acc'][-1] > 0.91), \"The validation accuracy is: %.3f.  It should be greater than 0.91\" % history.history['val_acc'][-1]\n",
    "print('Tests passed.')"
   ]
  },
  {
   "cell_type": "markdown",
   "metadata": {},
   "source": [
    "## Pooling\n",
    "1. Re-construct the network\n",
    "2. Add a 2x2 [max pooling layer](https://keras.io/layers/pooling/#maxpooling2d) immediately following your convolutional layer."
   ]
  },
  {
   "cell_type": "code",
   "execution_count": 42,
   "metadata": {
    "collapsed": true
   },
   "outputs": [],
   "source": [
    "from keras.models import Sequential\n",
    "from keras.layers.core import Dense, Activation, Flatten\n",
    "from keras.layers.convolutional import Convolution2D, Conv2D\n",
    "from keras.layers.pooling import MaxPooling2D\n",
    "\n",
    "# TODO: Re-construct the network and add a pooling layer after the convolutional layer.\n",
    "model = Sequential()\n",
    "# TODO: Build a Multi-layer feedforward neural network with Keras here.\n",
    "\n",
    "# 1st Layer - Add a convolution layer\n",
    "model.add(Convolution2D(32, 3, 3, border_mode='valid',input_shape=(32, 32, 3)))\n",
    "\n",
    "# 2nd Layer - Add a 2x2 max pooling layer\n",
    "model.add(MaxPooling2D(pool_size=(2, 2)))\n",
    "\n",
    "# 3rd Layer - Add a ReLU activation layer\n",
    "model.add(Activation('relu'))\n",
    "\n",
    "# 4th Layer - Add a flatten layer\n",
    "model.add(Flatten())\n",
    "\n",
    "# 5th Layer - Add a fully connected layer\n",
    "model.add(Dense(128))\n",
    "\n",
    "# 6th Layer - Add a ReLU activation layer\n",
    "model.add(Activation('relu'))\n",
    "\n",
    "# 7th Layer - Add a fully connected layer\n",
    "model.add(Dense(43))\n",
    "\n",
    "# 8th Layer - Add a softmax activation layer\n",
    "model.add(Activation('softmax'))"
   ]
  },
  {
   "cell_type": "code",
   "execution_count": 43,
   "metadata": {},
   "outputs": [
    {
     "name": "stdout",
     "output_type": "stream",
     "text": [
      "Train on 31367 samples, validate on 7842 samples\n",
      "Epoch 1/2\n",
      "21s - loss: 1.4584 - acc: 0.6188 - val_loss: 0.6586 - val_acc: 0.8169\n",
      "Epoch 2/2\n",
      "21s - loss: 0.4199 - acc: 0.8992 - val_loss: 0.3181 - val_acc: 0.9248\n",
      "Tests passed.\n"
     ]
    }
   ],
   "source": [
    "# STOP: Do not change the tests below. Your implementation should pass these tests.\n",
    "from keras.layers.core import Dense, Activation, Flatten\n",
    "from keras.layers.convolutional import Convolution2D\n",
    "from keras.layers.pooling import MaxPooling2D\n",
    "\n",
    "check_layers([Convolution2D, MaxPooling2D, Activation, Flatten, Dense, Activation, Dense, Activation], model.layers)\n",
    "assert model.layers[1].pool_size == (2, 2), 'Second layer must be a max pool layer with pool size of 2x2'\n",
    "\n",
    "model.compile('adam', 'categorical_crossentropy', ['accuracy'])\n",
    "history = model.fit(X_normalized, y_one_hot, batch_size=128, nb_epoch=2, validation_split=0.2, verbose=2)\n",
    "assert(history.history['val_acc'][-1] > 0.91), \"The validation accuracy is: %.3f.  It should be greater than 0.91\" % history.history['val_acc'][-1]\n",
    "print('Tests passed.')"
   ]
  },
  {
   "cell_type": "markdown",
   "metadata": {},
   "source": [
    "## Dropout\n",
    "1. Re-construct the network\n",
    "2. Add a [dropout](https://keras.io/layers/core/#dropout) layer after the pooling layer. Set the dropout rate to 50%."
   ]
  },
  {
   "cell_type": "code",
   "execution_count": 44,
   "metadata": {
    "collapsed": true
   },
   "outputs": [],
   "source": [
    "from keras.layers.core import Dense, Activation, Flatten, Dropout\n",
    "from keras.layers.convolutional import Convolution2D\n",
    "from keras.layers.pooling import MaxPooling2D\n",
    "# TODO: Re-construct the network and add dropout after the pooling layer.\n",
    "model = Sequential()\n",
    "# TODO: Build a Multi-layer feedforward neural network with Keras here.\n",
    "\n",
    "# 1st Layer - Add a convolution layer\n",
    "model.add(Convolution2D(32, 3, 3, border_mode='valid',input_shape=(32, 32, 3)))\n",
    "\n",
    "# 2nd Layer - Add a 2x2 max pooling layer\n",
    "model.add(MaxPooling2D(pool_size=(2, 2)))\n",
    "\n",
    "# 3rd Layer - Add a dropout layer. Set the dropout rate to 50%.\n",
    "model.add(Dropout(0.5))\n",
    "\n",
    "# 4th Layer - Add a ReLU activation layer\n",
    "model.add(Activation('relu'))\n",
    "\n",
    "# 5th Layer - Add a flatten layer\n",
    "model.add(Flatten())\n",
    "\n",
    "# 6th Layer - Add a fully connected layer\n",
    "model.add(Dense(128))\n",
    "\n",
    "# 7th Layer - Add a ReLU activation layer\n",
    "model.add(Activation('relu'))\n",
    "\n",
    "# 8th Layer - Add a fully connected layer\n",
    "model.add(Dense(43))\n",
    "\n",
    "# 9th Layer - Add a softmax activation layer\n",
    "model.add(Activation('softmax'))"
   ]
  },
  {
   "cell_type": "code",
   "execution_count": 45,
   "metadata": {},
   "outputs": [
    {
     "name": "stdout",
     "output_type": "stream",
     "text": [
      "Train on 31367 samples, validate on 7842 samples\n",
      "Epoch 1/2\n",
      "25s - loss: 1.7037 - acc: 0.5525 - val_loss: 0.8175 - val_acc: 0.7768\n",
      "Epoch 2/2\n",
      "24s - loss: 0.5769 - acc: 0.8460 - val_loss: 0.3640 - val_acc: 0.9204\n",
      "Tests passed.\n"
     ]
    }
   ],
   "source": [
    "# STOP: Do not change the tests below. Your implementation should pass these tests.\n",
    "from keras.layers.core import Dense, Activation, Flatten, Dropout\n",
    "from keras.layers.convolutional import Convolution2D\n",
    "from keras.layers.pooling import MaxPooling2D\n",
    "\n",
    "check_layers([Convolution2D, MaxPooling2D, Dropout, Activation, Flatten, Dense, Activation, Dense, Activation], model.layers)\n",
    "assert model.layers[2].p == 0.5, 'Third layer should be a Dropout of 50%'\n",
    "\n",
    "model.compile('adam', 'categorical_crossentropy', ['accuracy'])\n",
    "history = model.fit(X_normalized, y_one_hot, batch_size=128, nb_epoch=2, validation_split=0.2, verbose=2)\n",
    "assert(history.history['val_acc'][-1] > 0.91), \"The validation accuracy is: %.3f.  It should be greater than 0.91\" % history.history['val_acc'][-1]\n",
    "print('Tests passed.')"
   ]
  },
  {
   "cell_type": "markdown",
   "metadata": {},
   "source": [
    "## Optimization\n",
    "Congratulations! You've built a neural network with convolutions, pooling, dropout, and fully-connected layers, all in just a few lines of code.\n",
    "\n",
    "Have fun with the model and see how well you can do! Add more layers, or regularization, or different padding, or batches, or more training epochs.\n",
    "\n",
    "What is the best validation accuracy you can achieve?"
   ]
  },
  {
   "cell_type": "markdown",
   "metadata": {},
   "source": [
    "**batch_size=50, nb_epoch=20, border_mode='valid'**"
   ]
  },
  {
   "cell_type": "code",
   "execution_count": 53,
   "metadata": {},
   "outputs": [
    {
     "name": "stdout",
     "output_type": "stream",
     "text": [
      "Train on 31367 samples, validate on 7842 samples\n",
      "Epoch 1/20\n",
      "28s - loss: 1.1765 - acc: 0.6885 - val_loss: 0.4629 - val_acc: 0.8717\n",
      "Epoch 2/20\n",
      "27s - loss: 0.3380 - acc: 0.9085 - val_loss: 0.2305 - val_acc: 0.9447\n",
      "Epoch 3/20\n",
      "27s - loss: 0.2257 - acc: 0.9394 - val_loss: 0.1733 - val_acc: 0.9597\n",
      "Epoch 4/20\n",
      "27s - loss: 0.1828 - acc: 0.9491 - val_loss: 0.1561 - val_acc: 0.9617\n",
      "Epoch 5/20\n",
      "27s - loss: 0.1411 - acc: 0.9614 - val_loss: 0.1356 - val_acc: 0.9722\n",
      "Epoch 6/20\n",
      "27s - loss: 0.1297 - acc: 0.9636 - val_loss: 0.1161 - val_acc: 0.9722\n",
      "Epoch 7/20\n",
      "27s - loss: 0.1057 - acc: 0.9695 - val_loss: 0.1106 - val_acc: 0.9776\n",
      "Epoch 8/20\n",
      "27s - loss: 0.1014 - acc: 0.9714 - val_loss: 0.1028 - val_acc: 0.9795\n",
      "Epoch 9/20\n",
      "28s - loss: 0.0928 - acc: 0.9735 - val_loss: 0.0979 - val_acc: 0.9786\n",
      "Epoch 10/20\n",
      "27s - loss: 0.0829 - acc: 0.9768 - val_loss: 0.1176 - val_acc: 0.9778\n",
      "Epoch 11/20\n",
      "27s - loss: 0.0822 - acc: 0.9765 - val_loss: 0.0979 - val_acc: 0.9833\n",
      "Epoch 12/20\n",
      "27s - loss: 0.0712 - acc: 0.9796 - val_loss: 0.0865 - val_acc: 0.9821\n",
      "Epoch 13/20\n",
      "1997s - loss: 0.0681 - acc: 0.9799 - val_loss: 0.0876 - val_acc: 0.9836\n",
      "Epoch 14/20\n",
      "28s - loss: 0.0592 - acc: 0.9830 - val_loss: 0.0884 - val_acc: 0.9819\n",
      "Epoch 15/20\n",
      "27s - loss: 0.0604 - acc: 0.9825 - val_loss: 0.1028 - val_acc: 0.9793\n",
      "Epoch 16/20\n",
      "27s - loss: 0.0553 - acc: 0.9835 - val_loss: 0.0855 - val_acc: 0.9825\n",
      "Epoch 17/20\n",
      "27s - loss: 0.0564 - acc: 0.9833 - val_loss: 0.0879 - val_acc: 0.9842\n",
      "Epoch 18/20\n",
      "27s - loss: 0.0545 - acc: 0.9850 - val_loss: 0.0864 - val_acc: 0.9842\n",
      "Epoch 19/20\n",
      "28s - loss: 0.0507 - acc: 0.9857 - val_loss: 0.0942 - val_acc: 0.9838\n",
      "Epoch 20/20\n",
      "30s - loss: 0.0482 - acc: 0.9861 - val_loss: 0.0829 - val_acc: 0.9864\n"
     ]
    }
   ],
   "source": [
    "# TODO: Build a model\n",
    "from keras.layers.core import Dense, Activation, Flatten, Dropout\n",
    "from keras.layers.convolutional import Convolution2D\n",
    "from keras.layers.pooling import MaxPooling2D\n",
    "# TODO: Re-construct the network and add dropout after the pooling layer.\n",
    "model = Sequential()\n",
    "# TODO: Build a Multi-layer feedforward neural network with Keras here.\n",
    "\n",
    "# 1st Layer - Add a convolution layer\n",
    "model.add(Convolution2D(32, 3, 3, border_mode='valid',input_shape=(32, 32, 3)))\n",
    "\n",
    "# 2nd Layer - Add a 2x2 max pooling layer\n",
    "model.add(MaxPooling2D(pool_size=(2, 2)))\n",
    "\n",
    "# 3rd Layer - Add a dropout layer. Set the dropout rate to 50%.\n",
    "model.add(Dropout(0.5))\n",
    "\n",
    "# 4th Layer - Add a ReLU activation layer\n",
    "model.add(Activation('relu'))\n",
    "\n",
    "# 5th Layer - Add a flatten layer\n",
    "model.add(Flatten())\n",
    "\n",
    "# 6th Layer - Add a fully connected layer\n",
    "model.add(Dense(128))\n",
    "\n",
    "# 7th Layer - Add a ReLU activation layer\n",
    "model.add(Activation('relu'))\n",
    "\n",
    "# 8th Layer - Add a fully connected layer\n",
    "model.add(Dense(43))\n",
    "\n",
    "# 9th Layer - Add a softmax activation layer\n",
    "model.add(Activation('softmax'))\n",
    "\n",
    "# TODO: Compile and train the model\n",
    "model.compile('adam', 'categorical_crossentropy', ['accuracy'])\n",
    "history = model.fit(X_normalized, y_one_hot, batch_size=50, nb_epoch=20, validation_split=0.2, verbose=2)\n"
   ]
  },
  {
   "cell_type": "markdown",
   "metadata": {},
   "source": [
    "**batch_size=128, nb_epoch=20, border_mode='valid'**"
   ]
  },
  {
   "cell_type": "code",
   "execution_count": 54,
   "metadata": {},
   "outputs": [
    {
     "name": "stdout",
     "output_type": "stream",
     "text": [
      "Train on 31367 samples, validate on 7842 samples\n",
      "Epoch 1/20\n",
      "26s - loss: 1.5469 - acc: 0.5925 - val_loss: 0.6827 - val_acc: 0.8159\n",
      "Epoch 2/20\n",
      "25s - loss: 0.4916 - acc: 0.8725 - val_loss: 0.3165 - val_acc: 0.9295\n",
      "Epoch 3/20\n",
      "25s - loss: 0.3060 - acc: 0.9211 - val_loss: 0.2188 - val_acc: 0.9517\n",
      "Epoch 4/20\n",
      "24s - loss: 0.2245 - acc: 0.9408 - val_loss: 0.1699 - val_acc: 0.9672\n",
      "Epoch 5/20\n",
      "25s - loss: 0.1865 - acc: 0.9519 - val_loss: 0.1437 - val_acc: 0.9694\n",
      "Epoch 6/20\n",
      "25s - loss: 0.1551 - acc: 0.9587 - val_loss: 0.1541 - val_acc: 0.9597\n",
      "Epoch 7/20\n",
      "24s - loss: 0.1384 - acc: 0.9617 - val_loss: 0.1260 - val_acc: 0.9711\n",
      "Epoch 8/20\n",
      "24s - loss: 0.1182 - acc: 0.9687 - val_loss: 0.1142 - val_acc: 0.9795\n",
      "Epoch 9/20\n",
      "24s - loss: 0.1096 - acc: 0.9706 - val_loss: 0.1078 - val_acc: 0.9767\n",
      "Epoch 10/20\n",
      "25s - loss: 0.1003 - acc: 0.9720 - val_loss: 0.1110 - val_acc: 0.9762\n",
      "Epoch 11/20\n",
      "25s - loss: 0.0960 - acc: 0.9736 - val_loss: 0.1028 - val_acc: 0.9782\n",
      "Epoch 12/20\n",
      "24s - loss: 0.0887 - acc: 0.9761 - val_loss: 0.0985 - val_acc: 0.9795\n",
      "Epoch 13/20\n",
      "25s - loss: 0.0732 - acc: 0.9796 - val_loss: 0.1024 - val_acc: 0.9784\n",
      "Epoch 14/20\n",
      "25s - loss: 0.0848 - acc: 0.9764 - val_loss: 0.0882 - val_acc: 0.9809\n",
      "Epoch 15/20\n",
      "25s - loss: 0.0674 - acc: 0.9811 - val_loss: 0.0965 - val_acc: 0.9807\n",
      "Epoch 16/20\n",
      "24s - loss: 0.0667 - acc: 0.9806 - val_loss: 0.0888 - val_acc: 0.9833\n",
      "Epoch 17/20\n",
      "24s - loss: 0.0567 - acc: 0.9838 - val_loss: 0.0850 - val_acc: 0.9841\n",
      "Epoch 18/20\n",
      "25s - loss: 0.0620 - acc: 0.9827 - val_loss: 0.0821 - val_acc: 0.9843\n",
      "Epoch 19/20\n",
      "25s - loss: 0.0592 - acc: 0.9843 - val_loss: 0.0937 - val_acc: 0.9825\n",
      "Epoch 20/20\n",
      "24s - loss: 0.0534 - acc: 0.9849 - val_loss: 0.0986 - val_acc: 0.9804\n"
     ]
    }
   ],
   "source": [
    "# TODO: Build a model\n",
    "from keras.layers.core import Dense, Activation, Flatten, Dropout\n",
    "from keras.layers.convolutional import Convolution2D\n",
    "from keras.layers.pooling import MaxPooling2D\n",
    "# TODO: Re-construct the network and add dropout after the pooling layer.\n",
    "model = Sequential()\n",
    "# TODO: Build a Multi-layer feedforward neural network with Keras here.\n",
    "\n",
    "# 1st Layer - Add a convolution layer\n",
    "model.add(Convolution2D(32, 3, 3, border_mode='valid',input_shape=(32, 32, 3)))\n",
    "\n",
    "# 2nd Layer - Add a 2x2 max pooling layer\n",
    "model.add(MaxPooling2D(pool_size=(2, 2)))\n",
    "\n",
    "# 3rd Layer - Add a dropout layer. Set the dropout rate to 50%.\n",
    "model.add(Dropout(0.5))\n",
    "\n",
    "# 4th Layer - Add a ReLU activation layer\n",
    "model.add(Activation('relu'))\n",
    "\n",
    "# 5th Layer - Add a flatten layer\n",
    "model.add(Flatten())\n",
    "\n",
    "# 6th Layer - Add a fully connected layer\n",
    "model.add(Dense(128))\n",
    "\n",
    "# 7th Layer - Add a ReLU activation layer\n",
    "model.add(Activation('relu'))\n",
    "\n",
    "# 8th Layer - Add a fully connected layer\n",
    "model.add(Dense(43))\n",
    "\n",
    "# 9th Layer - Add a softmax activation layer\n",
    "model.add(Activation('softmax'))\n",
    "\n",
    "# TODO: Compile and train the model\n",
    "model.compile('adam', 'categorical_crossentropy', ['accuracy'])\n",
    "history = model.fit(X_normalized, y_one_hot, batch_size=128, nb_epoch=20, validation_split=0.2, verbose=2)\n"
   ]
  },
  {
   "cell_type": "markdown",
   "metadata": {},
   "source": [
    "**Add one more convolution layer with dropout 50%, batch_size=50, nb_epoch=10**"
   ]
  },
  {
   "cell_type": "code",
   "execution_count": 49,
   "metadata": {},
   "outputs": [
    {
     "name": "stdout",
     "output_type": "stream",
     "text": [
      "Train on 31367 samples, validate on 7842 samples\n",
      "Epoch 1/10\n",
      "36s - loss: 1.7506 - acc: 0.4987 - val_loss: 0.5765 - val_acc: 0.8577\n",
      "Epoch 2/10\n",
      "34s - loss: 0.6249 - acc: 0.8072 - val_loss: 0.2926 - val_acc: 0.9329\n",
      "Epoch 3/10\n",
      "33s - loss: 0.4264 - acc: 0.8696 - val_loss: 0.1966 - val_acc: 0.9626\n",
      "Epoch 4/10\n",
      "33s - loss: 0.3308 - acc: 0.8980 - val_loss: 0.1482 - val_acc: 0.9717\n",
      "Epoch 5/10\n",
      "33s - loss: 0.2786 - acc: 0.9139 - val_loss: 0.1059 - val_acc: 0.9783\n",
      "Epoch 6/10\n",
      "33s - loss: 0.2486 - acc: 0.9227 - val_loss: 0.1177 - val_acc: 0.9778\n",
      "Epoch 7/10\n",
      "33s - loss: 0.2264 - acc: 0.9301 - val_loss: 0.0949 - val_acc: 0.9795\n",
      "Epoch 8/10\n",
      "33s - loss: 0.2003 - acc: 0.9375 - val_loss: 0.0796 - val_acc: 0.9852\n",
      "Epoch 9/10\n",
      "33s - loss: 0.1862 - acc: 0.9419 - val_loss: 0.0732 - val_acc: 0.9832\n",
      "Epoch 10/10\n",
      "33s - loss: 0.1772 - acc: 0.9433 - val_loss: 0.0649 - val_acc: 0.9848\n"
     ]
    }
   ],
   "source": [
    "# TODO: Build a model\n",
    "from keras.layers.core import Dense, Activation, Flatten, Dropout\n",
    "from keras.layers.convolutional import Convolution2D\n",
    "from keras.layers.pooling import MaxPooling2D\n",
    "# TODO: Re-construct the network and add dropout after the pooling layer.\n",
    "model = Sequential()\n",
    "# TODO: Build a Multi-layer feedforward neural network with Keras here.\n",
    "\n",
    "# 1st Layer - Add a convolution layer\n",
    "model.add(Convolution2D(32, 3, 3, border_mode='valid',input_shape=(32, 32, 3)))\n",
    "\n",
    "# 2nd Layer - Add a 2x2 max pooling layer\n",
    "model.add(MaxPooling2D(pool_size=(2, 2)))\n",
    "\n",
    "# 3rd Layer - Add a dropout layer. Set the dropout rate to 50%.\n",
    "model.add(Dropout(0.5))\n",
    "\n",
    "# 4th Layer - Add a ReLU activation layer\n",
    "model.add(Activation('relu'))\n",
    "\n",
    "# 1st Layer - Add a convolution layer\n",
    "model.add(Convolution2D(32, 3, 3, border_mode='valid'))\n",
    "\n",
    "# 2nd Layer - Add a 2x2 max pooling layer\n",
    "model.add(MaxPooling2D(pool_size=(2, 2)))\n",
    "\n",
    "# 3rd Layer - Add a dropout layer. Set the dropout rate to 50%.\n",
    "model.add(Dropout(0.5))\n",
    "\n",
    "# 4th Layer - Add a ReLU activation layer\n",
    "model.add(Activation('relu'))\n",
    "\n",
    "# 5th Layer - Add a flatten layer\n",
    "model.add(Flatten())\n",
    "\n",
    "# 6th Layer - Add a fully connected layer\n",
    "model.add(Dense(128))\n",
    "\n",
    "# 7th Layer - Add a ReLU activation layer\n",
    "model.add(Activation('relu'))\n",
    "\n",
    "# 8th Layer - Add a fully connected layer\n",
    "model.add(Dense(43))\n",
    "\n",
    "# 9th Layer - Add a softmax activation layer\n",
    "model.add(Activation('softmax'))\n",
    "\n",
    "# TODO: Compile and train the model\n",
    "model.compile('adam', 'categorical_crossentropy', ['accuracy'])\n",
    "history = model.fit(X_normalized, y_one_hot, batch_size=50, nb_epoch=10, validation_split=0.2, verbose=2)\n"
   ]
  },
  {
   "cell_type": "markdown",
   "metadata": {},
   "source": [
    "**Add one more convolution layer with dropout 50%, batch_size=50, nb_epoch=20, border_mode='same'**"
   ]
  },
  {
   "cell_type": "code",
   "execution_count": 51,
   "metadata": {},
   "outputs": [
    {
     "name": "stdout",
     "output_type": "stream",
     "text": [
      "Train on 31367 samples, validate on 7842 samples\n",
      "Epoch 1/20\n",
      "325s - loss: 1.9089 - acc: 0.4478 - val_loss: 0.7274 - val_acc: 0.8247\n",
      "Epoch 2/20\n",
      "40s - loss: 0.6865 - acc: 0.7805 - val_loss: 0.3076 - val_acc: 0.9245\n",
      "Epoch 3/20\n",
      "39s - loss: 0.4379 - acc: 0.8597 - val_loss: 0.2394 - val_acc: 0.9441\n",
      "Epoch 4/20\n",
      "38s - loss: 0.3406 - acc: 0.8891 - val_loss: 0.1422 - val_acc: 0.9684\n",
      "Epoch 5/20\n",
      "39s - loss: 0.2900 - acc: 0.9066 - val_loss: 0.1272 - val_acc: 0.9697\n",
      "Epoch 6/20\n",
      "37s - loss: 0.2394 - acc: 0.9234 - val_loss: 0.1414 - val_acc: 0.9682\n",
      "Epoch 7/20\n",
      "37s - loss: 0.2140 - acc: 0.9320 - val_loss: 0.0945 - val_acc: 0.9836\n",
      "Epoch 8/20\n",
      "37s - loss: 0.2042 - acc: 0.9341 - val_loss: 0.0765 - val_acc: 0.9856\n",
      "Epoch 9/20\n",
      "37s - loss: 0.1826 - acc: 0.9410 - val_loss: 0.0678 - val_acc: 0.9842\n",
      "Epoch 10/20\n",
      "37s - loss: 0.1751 - acc: 0.9437 - val_loss: 0.0758 - val_acc: 0.9864\n",
      "Epoch 11/20\n",
      "37s - loss: 0.1581 - acc: 0.9500 - val_loss: 0.0665 - val_acc: 0.9846\n",
      "Epoch 12/20\n",
      "37s - loss: 0.1578 - acc: 0.9486 - val_loss: 0.0538 - val_acc: 0.9870\n",
      "Epoch 13/20\n",
      "37s - loss: 0.1463 - acc: 0.9520 - val_loss: 0.0590 - val_acc: 0.9861\n",
      "Epoch 14/20\n",
      "37s - loss: 0.1459 - acc: 0.9533 - val_loss: 0.0541 - val_acc: 0.9851\n",
      "Epoch 15/20\n",
      "37s - loss: 0.1400 - acc: 0.9538 - val_loss: 0.0490 - val_acc: 0.9898\n",
      "Epoch 16/20\n",
      "37s - loss: 0.1237 - acc: 0.9599 - val_loss: 0.0544 - val_acc: 0.9861\n",
      "Epoch 17/20\n",
      "36s - loss: 0.1263 - acc: 0.9591 - val_loss: 0.0577 - val_acc: 0.9866\n",
      "Epoch 18/20\n",
      "39s - loss: 0.1197 - acc: 0.9604 - val_loss: 0.0468 - val_acc: 0.9901\n",
      "Epoch 19/20\n",
      "39s - loss: 0.1196 - acc: 0.9603 - val_loss: 0.0465 - val_acc: 0.9908\n",
      "Epoch 20/20\n",
      "41s - loss: 0.1179 - acc: 0.9610 - val_loss: 0.0585 - val_acc: 0.9851\n"
     ]
    }
   ],
   "source": [
    "# TODO: Build a model\n",
    "from keras.layers.core import Dense, Activation, Flatten, Dropout\n",
    "from keras.layers.convolutional import Convolution2D\n",
    "from keras.layers.pooling import MaxPooling2D\n",
    "# TODO: Re-construct the network and add dropout after the pooling layer.\n",
    "model = Sequential()\n",
    "# TODO: Build a Multi-layer feedforward neural network with Keras here.\n",
    "\n",
    "# 1st Layer - Add a convolution layer\n",
    "model.add(Convolution2D(32, 3, 3, border_mode='same',input_shape=(32, 32, 3)))\n",
    "\n",
    "# 2nd Layer - Add a 2x2 max pooling layer\n",
    "model.add(MaxPooling2D(pool_size=(2, 2)))\n",
    "\n",
    "# 3rd Layer - Add a dropout layer. Set the dropout rate to 50%.\n",
    "model.add(Dropout(0.5))\n",
    "\n",
    "# 4th Layer - Add a ReLU activation layer\n",
    "model.add(Activation('relu'))\n",
    "\n",
    "# 1st Layer - Add a convolution layer\n",
    "model.add(Convolution2D(32, 3, 3, border_mode='same'))\n",
    "\n",
    "# 2nd Layer - Add a 2x2 max pooling layer\n",
    "model.add(MaxPooling2D(pool_size=(2, 2)))\n",
    "\n",
    "# 3rd Layer - Add a dropout layer. Set the dropout rate to 50%.\n",
    "model.add(Dropout(0.5))\n",
    "\n",
    "# 4th Layer - Add a ReLU activation layer\n",
    "model.add(Activation('relu'))\n",
    "\n",
    "# 5th Layer - Add a flatten layer\n",
    "model.add(Flatten())\n",
    "\n",
    "# 6th Layer - Add a fully connected layer\n",
    "model.add(Dense(128))\n",
    "\n",
    "# 7th Layer - Add a ReLU activation layer\n",
    "model.add(Activation('relu'))\n",
    "\n",
    "# 8th Layer - Add a fully connected layer\n",
    "model.add(Dense(43))\n",
    "\n",
    "# 9th Layer - Add a softmax activation layer\n",
    "model.add(Activation('softmax'))\n",
    "\n",
    "# TODO: Compile and train the model\n",
    "model.compile('adam', 'categorical_crossentropy', ['accuracy'])\n",
    "history = model.fit(X_normalized, y_one_hot, batch_size=50, nb_epoch=20, validation_split=0.2, verbose=2)\n"
   ]
  },
  {
   "cell_type": "markdown",
   "metadata": {},
   "source": [
    "**Add one more convolution layer with dropout 50%, batch_size=128, nb_epoch=20, border_mode='valid'**"
   ]
  },
  {
   "cell_type": "code",
   "execution_count": 56,
   "metadata": {},
   "outputs": [
    {
     "name": "stdout",
     "output_type": "stream",
     "text": [
      "Train on 31367 samples, validate on 7842 samples\n",
      "Epoch 1/20\n",
      "32s - loss: 2.3323 - acc: 0.3475 - val_loss: 1.2133 - val_acc: 0.6674\n",
      "Epoch 2/20\n",
      "31s - loss: 1.0042 - acc: 0.6871 - val_loss: 0.5502 - val_acc: 0.8710\n",
      "Epoch 3/20\n",
      "30s - loss: 0.6163 - acc: 0.8060 - val_loss: 0.3265 - val_acc: 0.9245\n",
      "Epoch 4/20\n",
      "29s - loss: 0.4702 - acc: 0.8556 - val_loss: 0.2473 - val_acc: 0.9484\n",
      "Epoch 5/20\n",
      "30s - loss: 0.3847 - acc: 0.8805 - val_loss: 0.1930 - val_acc: 0.9541\n",
      "Epoch 6/20\n",
      "30s - loss: 0.3300 - acc: 0.8984 - val_loss: 0.1601 - val_acc: 0.9651\n",
      "Epoch 7/20\n",
      "30s - loss: 0.2855 - acc: 0.9119 - val_loss: 0.1365 - val_acc: 0.9730\n",
      "Epoch 8/20\n",
      "30s - loss: 0.2646 - acc: 0.9173 - val_loss: 0.1249 - val_acc: 0.9748\n",
      "Epoch 9/20\n",
      "30s - loss: 0.2315 - acc: 0.9273 - val_loss: 0.0998 - val_acc: 0.9830\n",
      "Epoch 10/20\n",
      "31s - loss: 0.2122 - acc: 0.9344 - val_loss: 0.0926 - val_acc: 0.9804\n",
      "Epoch 11/20\n",
      "31s - loss: 0.1998 - acc: 0.9379 - val_loss: 0.0836 - val_acc: 0.9796\n",
      "Epoch 12/20\n",
      "33s - loss: 0.1923 - acc: 0.9407 - val_loss: 0.0779 - val_acc: 0.9834\n",
      "Epoch 13/20\n",
      "30s - loss: 0.1783 - acc: 0.9428 - val_loss: 0.0725 - val_acc: 0.9846\n",
      "Epoch 14/20\n",
      "30s - loss: 0.1673 - acc: 0.9483 - val_loss: 0.0640 - val_acc: 0.9870\n",
      "Epoch 15/20\n",
      "29s - loss: 0.1582 - acc: 0.9498 - val_loss: 0.0742 - val_acc: 0.9824\n",
      "Epoch 16/20\n",
      "30s - loss: 0.1489 - acc: 0.9526 - val_loss: 0.0618 - val_acc: 0.9866\n",
      "Epoch 17/20\n",
      "30s - loss: 0.1491 - acc: 0.9535 - val_loss: 0.0547 - val_acc: 0.9894\n",
      "Epoch 18/20\n",
      "30s - loss: 0.1433 - acc: 0.9535 - val_loss: 0.0493 - val_acc: 0.9909\n",
      "Epoch 19/20\n",
      "30s - loss: 0.1352 - acc: 0.9578 - val_loss: 0.0496 - val_acc: 0.9890\n",
      "Epoch 20/20\n",
      "31s - loss: 0.1314 - acc: 0.9591 - val_loss: 0.0568 - val_acc: 0.9897\n"
     ]
    }
   ],
   "source": [
    "# TODO: Build a model\n",
    "from keras.layers.core import Dense, Activation, Flatten, Dropout\n",
    "from keras.layers.convolutional import Convolution2D\n",
    "from keras.layers.pooling import MaxPooling2D\n",
    "# TODO: Re-construct the network and add dropout after the pooling layer.\n",
    "model = Sequential()\n",
    "# TODO: Build a Multi-layer feedforward neural network with Keras here.\n",
    "\n",
    "# 1st Layer - Add a convolution layer\n",
    "model.add(Convolution2D(32, 3, 3, border_mode='valid',input_shape=(32, 32, 3)))\n",
    "\n",
    "# 2nd Layer - Add a 2x2 max pooling layer\n",
    "model.add(MaxPooling2D(pool_size=(2, 2)))\n",
    "\n",
    "# 3rd Layer - Add a dropout layer. Set the dropout rate to 50%.\n",
    "model.add(Dropout(0.5))\n",
    "\n",
    "# 4th Layer - Add a ReLU activation layer\n",
    "model.add(Activation('relu'))\n",
    "\n",
    "# 1st Layer - Add a convolution layer\n",
    "model.add(Convolution2D(32, 3, 3, border_mode='valid'))\n",
    "\n",
    "# 2nd Layer - Add a 2x2 max pooling layer\n",
    "model.add(MaxPooling2D(pool_size=(2, 2)))\n",
    "\n",
    "# 3rd Layer - Add a dropout layer. Set the dropout rate to 50%.\n",
    "model.add(Dropout(0.5))\n",
    "\n",
    "# 4th Layer - Add a ReLU activation layer\n",
    "model.add(Activation('relu'))\n",
    "\n",
    "# 5th Layer - Add a flatten layer\n",
    "model.add(Flatten())\n",
    "\n",
    "# 6th Layer - Add a fully connected layer\n",
    "model.add(Dense(128))\n",
    "\n",
    "# 7th Layer - Add a ReLU activation layer\n",
    "model.add(Activation('relu'))\n",
    "\n",
    "# 8th Layer - Add a fully connected layer\n",
    "model.add(Dense(43))\n",
    "\n",
    "# 9th Layer - Add a softmax activation layer\n",
    "model.add(Activation('softmax'))\n",
    "\n",
    "# TODO: Compile and train the model\n",
    "model.compile('adam', 'categorical_crossentropy', ['accuracy'])\n",
    "history = model.fit(X_normalized, y_one_hot, batch_size=128, nb_epoch=20, validation_split=0.2, verbose=2)"
   ]
  },
  {
   "cell_type": "markdown",
   "metadata": {},
   "source": [
    "**Best Validation Accuracy:** 0.9897"
   ]
  },
  {
   "cell_type": "markdown",
   "metadata": {},
   "source": [
    "## Testing\n",
    "Once you've picked out your best model, it's time to test it.\n",
    "\n",
    "Load up the test data and use the [`evaluate()` method](https://keras.io/models/model/#evaluate) to see how well it does.\n",
    "\n",
    "Hint 1: The `evaluate()` method should return an array of numbers. Use the [`metrics_names`](https://keras.io/models/model/) property to get the labels."
   ]
  },
  {
   "cell_type": "code",
   "execution_count": 57,
   "metadata": {},
   "outputs": [
    {
     "name": "stdout",
     "output_type": "stream",
     "text": [
      "12630/12630 [==============================] - 4s     \n",
      "loss: 0.26140251071181264\n",
      "acc: 0.9344418052445304\n"
     ]
    }
   ],
   "source": [
    "# TODO: Load test data\n",
    "with open('test.p', 'rb') as f:\n",
    "    test_data = pickle.load(f)\n",
    "\n",
    "# TODO: Load the feature data to the variable X_train\n",
    "X_test = test_data['features']\n",
    "# TODO: Load the label data to the variable y_train\n",
    "y_test = test_data['labels']\n",
    "    \n",
    "# TODO: Preprocess data & one-hot encode the labels\n",
    "X_normalized_test = normalize(X_test, a=-0.5, b=0.5)\n",
    "y_one_hot_test = lb.transform(y_test)\n",
    "\n",
    "# TODO: Evaluate model on test data\n",
    "metrics = model.evaluate(X_normalized_test, y_one_hot_test)\n",
    "for metric_i in range(len(model.metrics_names)):\n",
    "    metric_name = model.metrics_names[metric_i]\n",
    "    metric_value = metrics[metric_i]\n",
    "    print('{}: {}'.format(metric_name, metric_value))"
   ]
  },
  {
   "cell_type": "markdown",
   "metadata": {},
   "source": [
    "## Summary\n",
    "Keras is a great tool to use if you want to quickly build a neural network and evaluate performance."
   ]
  }
 ],
 "metadata": {
  "anaconda-cloud": {},
  "kernelspec": {
   "display_name": "Python 3",
   "language": "python",
   "name": "python3"
  },
  "language_info": {
   "codemirror_mode": {
    "name": "ipython",
    "version": 3
   },
   "file_extension": ".py",
   "mimetype": "text/x-python",
   "name": "python",
   "nbconvert_exporter": "python",
   "pygments_lexer": "ipython3",
   "version": "3.5.2"
  }
 },
 "nbformat": 4,
 "nbformat_minor": 1
}
