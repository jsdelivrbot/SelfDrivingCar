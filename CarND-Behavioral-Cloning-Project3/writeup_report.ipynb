{
 "cells": [
  {
   "cell_type": "markdown",
   "metadata": {},
   "source": [
    "# Behavioral Cloning\n",
    "\n"
   ]
  },
  {
   "cell_type": "markdown",
   "metadata": {},
   "source": [
    "This is the Project 3 in Self Driving Car Nano degree from Udacity\n",
    "\n",
    "The purpose of this project is using deep learning to train a deep neural network to drive a car automously in a  simulator."
   ]
  },
  {
   "cell_type": "markdown",
   "metadata": {},
   "source": [
    "## Behavioral Cloning Project\n",
    "\n",
    "The goals / steps of this project are the following:\n",
    "\n",
    "- Use the simulator to collect data of good driving behavior\n",
    "- Build, a convolution neural network in Keras that predicts steering angles from images\n",
    "- Train and validate the model with a training and validation set\n",
    "- Test that the model successfully drives around track one without leaving the road\n",
    "- Summarize the results with a written report"
   ]
  },
  {
   "cell_type": "markdown",
   "metadata": {},
   "source": [
    "## Rubric Points\n",
    "\n",
    "Here I will consider the [rubric points](https://review.udacity.com/#!/rubrics/432/view) individually and describe how I addressed each point in my implementation."
   ]
  },
  {
   "cell_type": "markdown",
   "metadata": {},
   "source": [
    "### Files Submitted & Code Quality\n",
    "\n",
    "My project includes the following files:\n",
    "\n",
    "- model.ipynb containing the script to create and train the model, data processing and tuning parameters.\n",
    "- drive.py for driving the car in autonomous mode\n",
    "- model.h5 containing a trained convolution neural network\n",
    "- writeup_report.html or writeup_report.pdf summarizing the results\n",
    "- video.mp4 capturing the simulation running in automonous mode with the selected model.\n",
    "\n",
    "Using the Udacity provided simulator and my drive.py file, the car can be driven autonomously around the track by executing\n",
    "\n",
    "    python drive.py model.h5\n",
    "\n",
    "Due to a problem in my python environment, I create the pipeline in the model.ipynb instead of model.py as required. The model.ipynb file contains the code for training and saving the convolution neural network. The file shows the pipeline I used for training and validating the model, and it contains comments to explain how the code works.\n",
    "\n"
   ]
  },
  {
   "cell_type": "markdown",
   "metadata": {},
   "source": [
    "### Model Architecture and Training Strategy\n",
    "\n",
    "#### 1. Model Architecture\n",
    "\n",
    "My model is based on model proposed by the NVIDIA in [this paper](http://images.nvidia.com/content/tegra/automotive/images/2016/solutions/pdf/end-to-end-dl-using-px.pdf). The NVIDIA model is well-documented and not complicated and has been proven its effectiveness in self driving car control.\n",
    "\n",
    "The NVIDIA model architecture is summarized as follows:\n",
    "\n",
    "Layer        | Description\n",
    "------------ | -------------\n",
    "Input\t| 66x200x3 RGB image\n",
    "Lambda | Normalized\n",
    "Convolution 5x5x24 | valid padding, subsample(2,2), activation ReLU, outputs 31x98x24\n",
    "Convolution 5x5x36 | valid padding, subsample(2,2), activation ReLU, outputs 14x47x36\n",
    "Convolution 5x5x48 | valid padding, subsample(2,2), activation ReLU, outputs 5x22x48\n",
    "Convolution 3x3x64 | valid padding, subsample(2,2), activation ReLU, outputs 3x20x64\n",
    "Convolution 3x3x64 | valid padding, subsample(2,2), activation ReLU, outputs 1x18x64\n",
    "Flatten | outputs 1152\n",
    "Fully connected\t| activation ReLU, outputs 100\n",
    "Fully connected\t| activation ReLU, outputs 50\n",
    "Fully connected\t| activation ReLU, outputs 20\n",
    "Fully connected\t| outputs 1\n",
    "\n",
    "My initial model is modified from NVIDIA model with some modifications as follows:\n",
    "\n",
    "Layer        | Description\n",
    "------------ | -------------\n",
    "**Input**\t| **160x320x3 RGB image**\n",
    "**Lambda** | **Cropping, outputs 75x320x3**\n",
    "Lambda | Normalized, outputs 75x320x3\n",
    "Convolution 5x5x24 | valid padding, subsample(2,2), activation ReLU, outputs 36x158x24\n",
    "Convolution 5x5x36 | valid padding, subsample(2,2), activation ReLU, outputs 16x77x36\n",
    "Convolution 5x5x48 | valid padding, subsample(2,2), activation ReLU, outputs 6x37x48\n",
    "Convolution 3x3x64 | valid padding, subsample(2,2), activation ReLU, outputs 4x35x64\n",
    "Convolution 3x3x64 | valid padding, subsample(2,2), activation ReLU, outputs 2x33x64\n",
    "**Dropout** | **keeping probability 0.5, outputs 2x33x64**\n",
    "Flatten | outputs 4224\n",
    "Fully connected\t| activation ReLU, outputs 100\n",
    "Fully connected\t| activation ReLU, outputs 50\n",
    "Fully connected\t| activation ReLU, outputs 20\n",
    "Fully connected\t| outputs 1\n",
    "\n",
    "Total params: 559,419\n",
    "\n",
    "- My model consisted of a convolution neural network with three 5x5 and 3x3  filter sizes and depths between 24 and 64.\n",
    "- The convolution layers included RELU activations to introduce nonlinearity and downsample 2 times.\n",
    "- The data was normalized in the model using a Keras lambda layer.\n",
    "- Because the captured images have size of 160x320 and include redundant part such as sky and the front part of the car, a Keras lambda layers was added for cropping the redundancy.\n",
    "- The model contained a dropout layer with keeping probability 0.5 in order to reduce overfitting.\n",
    "- The model used an adam optimizer with default learning rate 0.001, so the learning rate was not tuned manually."
   ]
  },
  {
   "cell_type": "markdown",
   "metadata": {},
   "source": [
    "#### 2. Training Strategy\n",
    "\n",
    "Training data was chosen to keep the vehicle driving on the road. I used a combination of \n",
    "- center lane driving, \n",
    "- recovering from the left and right sides of the road, \n",
    "- driving counter-clockwise to help the model generalized, \n",
    "- flipping the images to help the model generalized, \n",
    "- collecting data from the second track can also help generalize the model\n",
    "\n",
    "For details about how I created the training data, see the next section."
   ]
  },
  {
   "cell_type": "markdown",
   "metadata": {},
   "source": [
    "### Architecture and Training Documentation\n",
    "\n",
    "#### 1. Solution Design Approach\n",
    "\n",
    "The overall strategy for deriving a model architecture was to use a well-known model that is sucessful in the field of self driving car and then twist model parameters as well as use appropriate image pre-processing and augmentation to the training dataset. The model was trained and validated on different data sets to ensure that the model was not overfitting. The model was tested by running it through the simulator and ensuring that the vehicle could stay on the track.\n",
    "\n",
    "My first step was to use a convolution neural network model similar to the NVIDIA model in [this paper](http://images.nvidia.com/content/tegra/automotive/images/2016/solutions/pdf/end-to-end-dl-using-px.pdf). I thought this model might be appropriate because the NVIDIA model is well-documented and not complicated and has been proven its effectiveness in self driving car control.\n",
    "\n",
    "Then I focused on image pre-processing methods which including: \n",
    "- Crop the sky (60 pixels) and steering wheel (25 pixels) parts in the image.\n",
    "- Resize the images from 160x320x3 matrix to 66x200x3 matrix, which is the input size of the NVIDIA model. I tested without/with this image processing to see if the resizing affect the performance of the model. After testing, I added a Lambda layer for resizing the image since helped reducing the training time without decreasing the model performance.\n",
    "\n",
    "In order to gauge how well the model was working, I split my image and steering angle data into a training and validation set. I found that my first model had a low mean squared error on the training set but a high mean squared error on the validation set. This implied that the model was overfitting.\n",
    "\n",
    "To combat the overfitting, I modified the model so that the model contains a dropout layer with keeping probability 0.5 in order to reduce overfitting.\n",
    "\n",
    "The final step was to run the simulator to see how well the car was driving around track one. \n",
    "\n",
    "There were a few spots where the vehicle fell off the track. To improve the driving behavior in these cases, I collected more training data in the track one, as well as generate more training data using image augmentation methods (see details in the next part).\n",
    "\n",
    "At the end of the process, the vehicle is able to drive autonomously around the track without leaving the road."
   ]
  },
  {
   "cell_type": "markdown",
   "metadata": {},
   "source": [
    "#### 2. Final Model Architecture\n",
    "\n",
    "The final model architecture consisted of a convolution neural network with the following layers and layer sizes.\n",
    "\n",
    "Layer        | Description\n",
    "------------ | -------------\n",
    "Input\t| 160x320x3 RGB image\n",
    "Lambda | Cropping, outputs 75x320x3\n",
    "Lambda | Resized, outputs 66x200x3\n",
    "Lambda | Normalized, outputs 66x200x3\n",
    "Convolution 5x5x24 | valid padding, subsample(2,2), activation ReLU, outputs 31x98x24\n",
    "Convolution 5x5x36 | valid padding, subsample(2,2), activation ReLU, outputs 14x47x36\n",
    "Convolution 5x5x48 | valid padding, subsample(2,2), activation ReLU, outputs 5x22x48\n",
    "Convolution 3x3x64 | valid padding, subsample(2,2), activation ReLU, outputs 3x20x64\n",
    "Convolution 3x3x64 | valid padding, subsample(2,2), activation ReLU, outputs 1x18x64\n",
    "Dropout | keeping probability 0.5, outputs 1152, outputs 1x18x64\n",
    "Flatten | outputs 1152\n",
    "Fully connected\t| activation ReLU, outputs 100\n",
    "Fully connected\t| activation ReLU, outputs 50\n",
    "Fully connected\t| activation ReLU, outputs 20\n",
    "Fully connected\t| outputs 1"
   ]
  },
  {
   "cell_type": "markdown",
   "metadata": {},
   "source": [
    "#### 3. Creation of the Training Set & Training Process\n",
    "\n",
    "To capture good driving behavior, I first recorded two laps on track one using center lane driving. Here is an example image of center lane driving on track one:\n",
    "\n",
    "![title](images/center_1.jpg)\n",
    "\n",
    "I then recorded the vehicle recovering from the left side and right sides of the road back to center so that the vehicle would learn how to go back the center of driving from the left side and right sides. These images show what a recovery looks like:\n",
    "\n",
    "![title](images/side_1.jpg)\n",
    "![title](images/side_2.jpg)\n",
    "![title](images/side_3.jpg)\n",
    "\n",
    "To augment the data sat, I also randomly flipped images and angles thinking that this would balance the left turn bias because the tracks are left-turn. For example, here is an image that has then been flipped:\n",
    "\n",
    "![title](images/center_1.jpg)\n",
    "![title](images/center_1_flipped.jpg)\n",
    "\n",
    "I also recorded the vehicle running around the curves only so that the vehicle would learn how to go around the curves.\n",
    "\n",
    "I also recorded the counter-clockwise driving on track one and track two for better model generalization.\n",
    "\n",
    "After the collection process, I had 36,202 number of data points. I then preprocessed this data by cropping the sky and steering wheel parts in the images and resizing the images to the size of 66 pixel height x 200 pixel width to match with the required input shape of the model.\n",
    "\n",
    "I finally randomly shuffled the data set and put 20% of the data into a validation set. \n",
    "\n",
    "I used this training data for training the model. The validation set helped determine if the model was over or under fitting. \n",
    "\n",
    "I used batch generator to create training and validation batches with batch size = 32 to help the training and validation process faster and without out-of-memory problem.\n",
    "\n",
    "I used an adam optimizer so that manually training the learning rate wasn't necessary.\n",
    "\n",
    "The simulation result after first training times was good at the straight road but sometimes the vehicle went of the track. \n",
    "\n",
    "Hence, I continued improve the image augmentation with the left and right cameras. The simulator captured images from three cameras mounted on the car: a center, right and left camera to overcome the issue of recovering from being off-center. I randomly selected one image from three camera and added steering correction if the left or right image was selected as in the lecture. This kind of image augmentation was applied in the training phase only. Image from center camera always selected in the validation phase.\n",
    "\n",
    "Here is images from the center, left, and right cameras:\n",
    "\n",
    "![title](images/center_2.jpg)\n",
    "![title](images/left_2.jpg)\n",
    "![title](images/right_2.jpg)\n",
    "\n",
    "I added a ModelCheckpoint() object to save all the model weights after each epoch of training and tested all models in the simulator with autonomous mode. The ideal number of epochs was 4 to 5 epochs as evidenced by learning curve plotted at the end of training.\n",
    "\n",
    "At the end of the process, the vehicle is able to drive autonomously around the track one without leaving the road.\n",
    "\n",
    "With track two, I repeated above process in order to get more data points."
   ]
  },
  {
   "cell_type": "markdown",
   "metadata": {},
   "source": [
    "## Code Scripts"
   ]
  },
  {
   "cell_type": "code",
   "execution_count": 1,
   "metadata": {},
   "outputs": [],
   "source": [
    "import os\n",
    "import csv\n",
    "import cv2\n",
    "import numpy as np\n",
    "import sklearn"
   ]
  },
  {
   "cell_type": "markdown",
   "metadata": {},
   "source": [
    "### Image Augmentation"
   ]
  },
  {
   "cell_type": "code",
   "execution_count": 2,
   "metadata": {},
   "outputs": [],
   "source": [
    "def flip_image(img, angle):\n",
    "    \"\"\"\n",
    "    Randomly flip the image and adjust the steering angle.\n",
    "    \"\"\"\n",
    "    if np.random.rand() < 0.5:\n",
    "        img = cv2.flip(img, 1)\n",
    "        angle = -angle\n",
    "    return img, angle\n"
   ]
  },
  {
   "cell_type": "markdown",
   "metadata": {},
   "source": [
    "### Reading and spliting data"
   ]
  },
  {
   "cell_type": "code",
   "execution_count": 3,
   "metadata": {},
   "outputs": [],
   "source": [
    "# Read the driving_log.csv and get paths of images as samples\n",
    "samples = []\n",
    "with open('../../P3_Data/driving_log.csv') as csvfile:\n",
    "    reader = csv.reader(csvfile)\n",
    "    for line in reader:\n",
    "        samples.append(line)\n",
    "\n",
    "from sklearn.model_selection import train_test_split\n",
    "train_samples, validation_samples = train_test_split(samples, test_size=0.2, random_state=0)"
   ]
  },
  {
   "cell_type": "markdown",
   "metadata": {},
   "source": [
    "### Using generator function to compile and train the model "
   ]
  },
  {
   "cell_type": "code",
   "execution_count": 4,
   "metadata": {},
   "outputs": [],
   "source": [
    "def select_image(batch_sample, is_training=False):\n",
    "    \"\"\"\n",
    "    Randomly select an image among the center, left or right images, and adjust the steering angle.\n",
    "    This way, we can teach your model how to steer if the car drifts off to the left or the right.\n",
    "    \"\"\"\n",
    "    if is_training == True:\n",
    "        choice = np.random.choice(3)\n",
    "    else:\n",
    "        choice = 0\n",
    "        \n",
    "    name = '../../P3_Data/IMG/'+batch_sample[choice].split('/')[-1]\n",
    "    image = cv2.imread(name)\n",
    "    steering_center = float(batch_sample[3])\n",
    "\n",
    "    # create adjusted steering measurements for the side camera images\n",
    "    correction = 0.2 # this is a parameter to tune\n",
    "    steering_left = steering_center + correction\n",
    "    steering_right = steering_center - correction\n",
    "\n",
    "    if choice == 0:\n",
    "        return image, steering_center\n",
    "    elif choice == 1:\n",
    "        return image, steering_left\n",
    "    return image, steering_right\n",
    "\n",
    "def generator(samples, batch_size=32, is_training=False):\n",
    "    num_samples = len(samples)\n",
    "    while 1: # Loop forever so the generator never terminates shuffle(samples)\n",
    "        for offset in range(0, num_samples, batch_size):\n",
    "            batch_samples = samples[offset:offset+batch_size]\n",
    "\n",
    "            images = []\n",
    "            angles = []\n",
    "            for batch_sample in batch_samples:\n",
    "                image, angle = select_image(batch_sample, is_training=is_training)\n",
    "                images.append(image)\n",
    "                angles.append(angle)\n",
    "\n",
    "            # Get training data\n",
    "            X_train = np.array(images)\n",
    "            y_train = np.array(angles)\n",
    "            \n",
    "            # Randomly flip image if in training mode\n",
    "            if is_training == True:\n",
    "                X_train_augmented, y_train_augmented = [], []\n",
    "                for x, y in zip(X_train, y_train):\n",
    "                    x_augmented, y_augmented = flip_image(x, y)\n",
    "                    X_train_augmented.append(x_augmented)\n",
    "                    y_train_augmented.append(y_augmented)\n",
    "\n",
    "                X_train_augmented = np.array(X_train_augmented)\n",
    "                y_train_augmented = np.array(y_train_augmented)       \n",
    "\n",
    "                yield sklearn.utils.shuffle(X_train_augmented, y_train_augmented)\n",
    "            \n",
    "            else:\n",
    "                yield sklearn.utils.shuffle(X_train, y_train)\n",
    "\n",
    "# compile and train the model using the generator function\n",
    "train_generator = generator(train_samples, batch_size=32, is_training=True)\n",
    "validation_generator = generator(validation_samples, batch_size=32, is_training=False)"
   ]
  },
  {
   "cell_type": "markdown",
   "metadata": {},
   "source": [
    "### Train the network"
   ]
  },
  {
   "cell_type": "code",
   "execution_count": 5,
   "metadata": {
    "scrolled": false
   },
   "outputs": [
    {
     "name": "stderr",
     "output_type": "stream",
     "text": [
      "Using TensorFlow backend.\n"
     ]
    },
    {
     "name": "stdout",
     "output_type": "stream",
     "text": [
      "____________________________________________________________________________________________________\n",
      "Layer (type)                     Output Shape          Param #     Connected to                     \n",
      "====================================================================================================\n",
      "cropping2d_1 (Cropping2D)        (None, 75, 320, 3)    0           cropping2d_input_1[0][0]         \n",
      "____________________________________________________________________________________________________\n",
      "lambda_1 (Lambda)                (None, 66, 200, 3)    0           cropping2d_1[0][0]               \n",
      "____________________________________________________________________________________________________\n",
      "lambda_2 (Lambda)                (None, 66, 200, 3)    0           lambda_1[0][0]                   \n",
      "____________________________________________________________________________________________________\n",
      "convolution2d_1 (Convolution2D)  (None, 31, 98, 24)    1824        lambda_2[0][0]                   \n",
      "____________________________________________________________________________________________________\n",
      "convolution2d_2 (Convolution2D)  (None, 14, 47, 36)    21636       convolution2d_1[0][0]            \n",
      "____________________________________________________________________________________________________\n",
      "convolution2d_3 (Convolution2D)  (None, 5, 22, 48)     43248       convolution2d_2[0][0]            \n",
      "____________________________________________________________________________________________________\n",
      "convolution2d_4 (Convolution2D)  (None, 3, 20, 64)     27712       convolution2d_3[0][0]            \n",
      "____________________________________________________________________________________________________\n",
      "convolution2d_5 (Convolution2D)  (None, 1, 18, 64)     36928       convolution2d_4[0][0]            \n",
      "____________________________________________________________________________________________________\n",
      "dropout_1 (Dropout)              (None, 1, 18, 64)     0           convolution2d_5[0][0]            \n",
      "____________________________________________________________________________________________________\n",
      "flatten_1 (Flatten)              (None, 1152)          0           dropout_1[0][0]                  \n",
      "____________________________________________________________________________________________________\n",
      "dense_1 (Dense)                  (None, 100)           115300      flatten_1[0][0]                  \n",
      "____________________________________________________________________________________________________\n",
      "dense_2 (Dense)                  (None, 50)            5050        dense_1[0][0]                    \n",
      "____________________________________________________________________________________________________\n",
      "dense_3 (Dense)                  (None, 10)            510         dense_2[0][0]                    \n",
      "____________________________________________________________________________________________________\n",
      "dense_4 (Dense)                  (None, 1)             11          dense_3[0][0]                    \n",
      "====================================================================================================\n",
      "Total params: 252,219\n",
      "Trainable params: 252,219\n",
      "Non-trainable params: 0\n",
      "____________________________________________________________________________________________________\n"
     ]
    },
    {
     "name": "stderr",
     "output_type": "stream",
     "text": [
      "/Users/phuongpham/anaconda3/anaconda/envs/carnd-term1/lib/python3.5/site-packages/keras/backend/tensorflow_backend.py:1917: UserWarning: Expected no kwargs, you passed 1\n",
      "kwargs passed to function are ignored with Tensorflow backend\n",
      "  warnings.warn('\\n'.join(msg))\n"
     ]
    },
    {
     "name": "stdout",
     "output_type": "stream",
     "text": [
      "Epoch 1/10\n",
      "9653/9653 [==============================] - 79s - loss: 0.0361 - val_loss: 0.0181\n",
      "Epoch 2/10\n",
      "9653/9653 [==============================] - 79s - loss: 0.0312 - val_loss: 0.0193\n",
      "Epoch 3/10\n",
      "9653/9653 [==============================] - 78s - loss: 0.0297 - val_loss: 0.0191\n",
      "Epoch 4/10\n",
      "9653/9653 [==============================] - 77s - loss: 0.0299 - val_loss: 0.0176\n",
      "Epoch 5/10\n",
      "9653/9653 [==============================] - 80s - loss: 0.0279 - val_loss: 0.0171\n",
      "Epoch 6/10\n",
      "9653/9653 [==============================] - 79s - loss: 0.0277 - val_loss: 0.0172\n",
      "Epoch 7/10\n",
      "9653/9653 [==============================] - 80s - loss: 0.0291 - val_loss: 0.0192\n",
      "Epoch 8/10\n",
      "9653/9653 [==============================] - 79s - loss: 0.0266 - val_loss: 0.0180\n",
      "Epoch 9/10\n",
      "9653/9653 [==============================] - 77s - loss: 0.0246 - val_loss: 0.0168\n",
      "Epoch 10/10\n",
      "9653/9653 [==============================] - 76s - loss: 0.0242 - val_loss: 0.0153\n",
      "dict_keys(['loss', 'val_loss'])\n"
     ]
    },
    {
     "data": {
      "image/png": "[encoded data removed]",
      "text/plain": [
       "<matplotlib.figure.Figure at 0x12227a4e0>"
      ]
     },
     "metadata": {},
     "output_type": "display_data"
    }
   ],
   "source": [
    "# Build network architecture \n",
    "# for a regression network (need only 1 neuron at output)\n",
    "from keras.models import Sequential\n",
    "from keras.layers.core import Flatten, Dense, Dropout, Lambda\n",
    "from keras.layers.convolutional import Convolution2D, Cropping2D\n",
    "from keras.optimizers import Adam\n",
    "import matplotlib.pyplot as plt\n",
    "from keras.backend import tf as ktf\n",
    "from keras.callbacks import ModelCheckpoint\n",
    "\n",
    "row, col, ch = 160, 320, 3  # image format\n",
    "INPUT_SHAPE = (row,col,ch)\n",
    "\n",
    "def resize(image):\n",
    "    from keras.backend import tf as ktf   \n",
    "    resized = ktf.image.resize_images(image, (66, 200))\n",
    "    return resized\n",
    "\n",
    "# Create the Sequential model\n",
    "model = Sequential()\n",
    "\n",
    "## Set up lambda layers for data preprocessing: \n",
    "\n",
    "# Set up cropping2D layer: cropping (top, bottom) (left, right) pixels \n",
    "model.add(Cropping2D(cropping=((60,25), (0,0)), input_shape=INPUT_SHAPE)) \n",
    "\n",
    "# Add Lambda layer for resizing image (image, height, width, data_format)\n",
    "model.add(Lambda(resize, input_shape=(75, 320, 3), output_shape=(66, 200, 3)))\n",
    "\n",
    "# Add Lambda layer for normalization\n",
    "model.add(Lambda(lambda x: (x / 127.5) - 1.0))\n",
    "\n",
    "## Build a Multi-layer feedforward neural network with Keras here.\n",
    "\n",
    "# 1st Layer - Add a convolution layer\n",
    "model.add(Convolution2D(24, 5, 5, subsample=(2,2), activation='relu'))\n",
    "\n",
    "# 2nd Layer - Add a convolution layer\n",
    "model.add(Convolution2D(36, 5, 5, subsample=(2,2), activation='relu'))\n",
    "\n",
    "# 3rd Layer - Add a convolution layer\n",
    "model.add(Convolution2D(48, 5, 5, subsample=(2,2), activation='relu'))\n",
    "\n",
    "# 4th Layer - Add a convolution layer\n",
    "model.add(Convolution2D(64, 3, 3, activation='relu'))\n",
    "\n",
    "# 5th Layer - Add a convolution layer\n",
    "model.add(Convolution2D(64, 3, 3, activation='relu'))\n",
    "\n",
    "# 6th Layer - Add a convolution layer\n",
    "model.add(Dropout(0.5))\n",
    "\n",
    "# 7th Layer - Add a flatten layer\n",
    "model.add(Flatten())\n",
    "\n",
    "# 8th Layer - Add a fully connected layer\n",
    "model.add(Dense(100, activation='relu'))\n",
    "\n",
    "# 9th Layer - Add a fully connected layer\n",
    "model.add(Dense(50, activation='relu'))\n",
    "\n",
    "# 10th Layer - Add a fully connected layer\n",
    "model.add(Dense(10, activation='relu'))\n",
    "\n",
    "# 11th Layer - Add a fully connected layer\n",
    "model.add(Dense(1))\n",
    "\n",
    "model.summary()\n",
    "\n",
    "# saves the model weights after each epoch if the validation loss decreased\n",
    "checkpointer = ModelCheckpoint('model-{epoch:02d}.h5',\n",
    "                                 monitor='val_loss',\n",
    "                                 verbose=0,\n",
    "                                 save_best_only=False,\n",
    "                                 mode='auto')\n",
    "# Compile and train the model\n",
    "model.compile(optimizer='adam', loss='mse', verbose = 1)\n",
    "# history_object = model.fit(X_train, y_train, validation_split=0.2, shuffle=True, nb_epoch=7, batch_size=128)\n",
    "history_object = model.fit_generator(train_generator, samples_per_epoch=len(train_samples), \\\n",
    "                                     validation_data=validation_generator, nb_val_samples=len(validation_samples), \\\n",
    "                                     nb_epoch=10, callbacks=[checkpointer], verbose=1)\n",
    "\n",
    "#model.save('model.h5')\n",
    "\n",
    "### print the keys contained in the history object\n",
    "print(history_object.history.keys())\n",
    "\n",
    "### plot the training and validation loss for each epoch\n",
    "plt.plot(history_object.history['loss'])\n",
    "plt.plot(history_object.history['val_loss'])\n",
    "plt.title('model mean squared error loss')\n",
    "plt.ylabel('mean squared error loss')\n",
    "plt.xlabel('epoch')\n",
    "plt.legend(['training set', 'validation set'], loc='upper right')\n",
    "plt.show()"
   ]
  },
  {
   "cell_type": "markdown",
   "metadata": {},
   "source": [
    "### Run the network\n",
    "\n",
    "I run the network on the pre-trained model with the following command:\n",
    "\n",
    "    python drive.py model-1.h5\n",
    "    \n",
    "And run the simulator with the Autonomous mode. The output video was recorded."
   ]
  },
  {
   "cell_type": "markdown",
   "metadata": {},
   "source": [
    "### Output"
   ]
  },
  {
   "cell_type": "markdown",
   "metadata": {},
   "source": [
    "Link to the output video."
   ]
  },
  {
   "cell_type": "code",
   "execution_count": null,
   "metadata": {},
   "outputs": [],
   "source": []
  }
 ],
 "metadata": {
  "kernelspec": {
   "display_name": "Python 3",
   "language": "python",
   "name": "python3"
  },
  "language_info": {
   "codemirror_mode": {
    "name": "ipython",
    "version": 3
   },
   "file_extension": ".py",
   "mimetype": "text/x-python",
   "name": "python",
   "nbconvert_exporter": "python",
   "pygments_lexer": "ipython3",
   "version": "3.5.2"
  },
  "widgets": {
   "state": {},
   "version": "1.1.2"
  }
 },
 "nbformat": 4,
 "nbformat_minor": 2
}
